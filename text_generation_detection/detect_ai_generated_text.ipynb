{
 "cells": [
  {
   "cell_type": "markdown",
   "metadata": {},
   "source": [
    "### Allows permisions to be set on a file or directory\n",
    "\n",
    "This is a simple implementation of the `chmod` command in Unix. It allows the user to set the permissions of a file or directory using the octal notation.\n",
    "\n",
    "```bash\n",
    "sudo chmod -R 777 /path/to/file\n",
    "```"
   ]
  },
  {
   "cell_type": "code",
   "execution_count": null,
   "metadata": {},
   "outputs": [],
   "source": [
    "import sys\n",
    "import gc # garbage collector \n",
    "\n",
    "import pandas as pd \n",
    "from sklearn.model_selection import StratifiedKFold\n",
    "\"\"\"\n",
    "What is the difference between KFold, StratifiedKFold and StratifiedGroupKFold?\n",
    "https://stackoverflow.com/questions/45969390/difference-between-kfold-stratifiedkfold-and-stratifiedgroupkfold-in-sklearn\n",
    "\n",
    "StratifiedKFold is a variation of k-fold which returns stratified folds: each set contains approximately the same percentage of samples of each target class as the complete set.\n",
    "\n",
    "StratifiedGroupKFold is a variation of k-fold which returns stratified folds, but in addition, the folds are approximately balanced between the different groups.\n",
    "\"\"\""
   ]
  }
 ],
 "metadata": {
  "kernelspec": {
   "display_name": "mlenv",
   "language": "python",
   "name": "python3"
  },
  "language_info": {
   "name": "python",
   "version": "3.11.5"
  }
 },
 "nbformat": 4,
 "nbformat_minor": 2
}
